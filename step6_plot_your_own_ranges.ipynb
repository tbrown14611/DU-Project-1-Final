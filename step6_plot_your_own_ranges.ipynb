{
 "cells": [
  {
   "cell_type": "markdown",
   "metadata": {},
   "source": [
    "----------------------\n",
    "# Create Dynamic Plotly Maps\n",
    "- Pedro maintains this based on our ever changing bins.\n",
    "----------------------"
   ]
  },
  {
   "cell_type": "code",
   "execution_count": null,
   "metadata": {},
   "outputs": [],
   "source": [
    "import pandas as pd\n",
    "import numpy as np\n",
    "import plotly\n",
    "import plotly.express as px\n"
   ]
  },
  {
   "cell_type": "code",
   "execution_count": null,
   "metadata": {},
   "outputs": [],
   "source": [
    "US_CA_Ground_Stations_n_locations = pd.read_parquet('result_files/stp4_us_ca_weather_categories.parquet.gzip', engine=\"fastparquet\") \n",
    "US_CA_Ground_Stations_n_locations.columns"
   ]
  },
  {
   "cell_type": "markdown",
   "metadata": {},
   "source": [
    "----------------------\n",
    "### Plotly Maps\n",
    "\n",
    "- General Confituration Parameters for all Maps\n",
    "----------------------"
   ]
  },
  {
   "cell_type": "code",
   "execution_count": null,
   "metadata": {},
   "outputs": [],
   "source": [
    "plotly_html_path = \"../jflachman.github.io/plotly/\"\n",
    "zoom_scale = 2.4\n",
    "center_dict = dict(lat=52,lon=-114)\n",
    "fig_width = 900\n",
    "fit_height = 670\n",
    "margin_left     = 0\n",
    "margin_right    = 0\n",
    "margin_top      = 25\n",
    "margin_bottom   = 0\n",
    "\n",
    "hover_data_fields = ['State', 'Elevation', 'PRCP',\n",
    "                    'Days 25-55', 'Days 32-65', 'Days 60-80', 'Days 75-95',\n",
    "                    'Days<-25', 'Days<-10', 'Days<0', 'Days<10', 'Days<20', 'Days<25',\n",
    "                    'Days<32', 'Days<40', 'Days<50', 'Days<55', 'Days<60', 'Days<65',\n",
    "                    'Days>60', 'Days>65', 'Days>70', 'Days>75', 'Days>80',\n",
    "                    'Days>85', 'Days>90', 'Days>95', 'Days>100', 'Days>110', 'Days>120'\n",
    "                    ]"
   ]
  },
  {
   "cell_type": "markdown",
   "metadata": {},
   "source": [
    "----------------------\n",
    "### Draw Ideal Climate Map\n",
    "----------------------"
   ]
  },
  {
   "cell_type": "markdown",
   "metadata": {},
   "source": [
    "#### Use these columns to define the parameters for your climate analysis\n",
    "- Range Options\n",
    "    - 'Days 25-55', 'Days 32-65', 'Days 60-80', 'Days 75-95'\n",
    "\n",
    "- Precipitation\n",
    "    - 'PRCP\n",
    "\n",
    "- Temp Less than X\n",
    "    - 'Days<-25', 'Days<-10', 'Days<0', 'Days<10', 'Days<20', 'Days<25', 'Days<32', 'Days<40', 'Days<50', 'Days<55', 'Days<60', 'Days<65'\n",
    "\n",
    "- Temp Greater than X\n",
    "    -'Days>60', 'Days>65', 'Days>70', 'Days>75', 'Days>80', 'Days>85', 'Days>90', 'Days>95', 'Days>100', 'Days>110', 'Days>120'\n",
    "\n",
    "---------------------------------\n",
    "\n",
    "#### Example Range plot below"
   ]
  },
  {
   "cell_type": "code",
   "execution_count": null,
   "metadata": {},
   "outputs": [],
   "source": [
    "# Ideal Range (Temperate Climate)\n",
    "ideal_rows = US_CA_Ground_Stations_n_locations[(US_CA_Ground_Stations_n_locations['PRCP'] < 100) \n",
    "                                                & (US_CA_Ground_Stations_n_locations['Days 60-80'] > 100)\n",
    "                                                & (US_CA_Ground_Stations_n_locations['Days<32'] < 10)\n",
    "                                                & (US_CA_Ground_Stations_n_locations['Days>90'] < 10)\n",
    "                                                ]\n",
    "\n",
    "\n",
    "label = \"Days 60-80\"\n",
    "color_range = [150,300]\n",
    "\n",
    "figIdeal6080 = px.scatter_mapbox(ideal_rows, lat=\"Lat\", lon=\"Lon\", \n",
    "                        title=\"Ideal Days 60-80 with 'Days>90'<10, 'Days<32'<10 & 'Days Precip'<100\",  \n",
    "                        hover_name=\"Name\", \n",
    "                        hover_data=hover_data_fields,\n",
    "                        color=label, \n",
    "                        color_continuous_scale=px.colors.sequential.Jet, \n",
    "                        range_color = color_range,\n",
    "                        center = center_dict,\n",
    "                        zoom=zoom_scale, width=fig_width, height=fit_height)\n",
    "figIdeal6080.update_layout(mapbox_style=\"open-street-map\")\n",
    "figIdeal6080.update_layout(margin={\"r\":margin_right,\"t\":margin_top,\"l\":margin_left,\"b\":margin_bottom})\n",
    "\n",
    "\n",
    "figIdeal6080.write_html(plotly_html_path + \"ideal_60-80.html\")\n",
    "figIdeal6080.show()"
   ]
  }
 ],
 "metadata": {
  "kernelspec": {
   "display_name": "dev",
   "language": "python",
   "name": "python3"
  },
  "language_info": {
   "codemirror_mode": {
    "name": "ipython",
    "version": 3
   },
   "file_extension": ".py",
   "mimetype": "text/x-python",
   "name": "python",
   "nbconvert_exporter": "python",
   "pygments_lexer": "ipython3",
   "version": "3.12.2"
  }
 },
 "nbformat": 4,
 "nbformat_minor": 2
}
